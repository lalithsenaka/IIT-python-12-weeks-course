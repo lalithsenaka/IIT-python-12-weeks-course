{
  "metadata": {
    "kernelspec": {
      "name": "xpython",
      "display_name": "Python 3.13 (XPython)",
      "language": "python"
    },
    "language_info": {
      "file_extension": ".py",
      "mimetype": "text/x-python",
      "name": "python",
      "version": "3.13.1"
    }
  },
  "nbformat_minor": 5,
  "nbformat": 4,
  "cells": [
    {
      "id": "931fa411-40b9-4f12-9cd4-c84174bf91ec",
      "cell_type": "markdown",
      "source": "# IIT python class",
      "metadata": {}
    },
    {
      "id": "8753d64c-44fb-4e87-9b1e-563f446f4b02",
      "cell_type": "markdown",
      "source": "## week 01 homeworks",
      "metadata": {}
    },
    {
      "id": "69627e70-8d8f-4c0c-bce6-b75be4dd4e4b",
      "cell_type": "markdown",
      "source": "very forst command - print",
      "metadata": {}
    },
    {
      "id": "eb2cfc6f-7a63-4cb2-a3c2-334fca9f609d",
      "cell_type": "code",
      "source": "print(\" Hello Sri Lanka\")",
      "metadata": {
        "trusted": true
      },
      "outputs": [
        {
          "name": "stdout",
          "output_type": "stream",
          "text": " Hello Sri Lanka\n"
        }
      ],
      "execution_count": 5
    },
    {
      "id": "0c09935f-d34b-4b2d-9f49-7ab37a4c9997",
      "cell_type": "code",
      "source": "Print(\" IIT world\")",
      "metadata": {
        "trusted": true
      },
      "outputs": [
        {
          "ename": "<class 'NameError'>",
          "evalue": "name 'Print' is not defined",
          "traceback": [
            "\u001b[31m---------------------------------------------------------------------------\u001b[39m",
            "\u001b[31mNameError\u001b[39m                                 Traceback (most recent call last)",
            "\u001b[36mCell\u001b[39m\u001b[36m \u001b[39m\u001b[32mIn[6]\u001b[39m\u001b[32m, line 1\u001b[39m\n\u001b[32m----> \u001b[39m\u001b[32m1\u001b[39m \u001b[43mPrint\u001b[49m(\u001b[33m\"\u001b[39m\u001b[33m IIT world\u001b[39m\u001b[33m\"\u001b[39m)\n",
            "\u001b[31mNameError\u001b[39m: name 'Print' is not defined"
          ],
          "output_type": "error"
        }
      ],
      "execution_count": 6
    },
    {
      "id": "463ae751-3573-43ba-aecf-bc3f52268f6b",
      "cell_type": "code",
      "source": "",
      "metadata": {
        "trusted": true
      },
      "outputs": [],
      "execution_count": null
    }
  ]
}