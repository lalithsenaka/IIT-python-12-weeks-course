{
 "cells": [
  {
   "cell_type": "markdown",
   "id": "a1ab209e-27cf-4580-b1de-769606b4da18",
   "metadata": {},
   "source": [
    "# Comparison Operators"
   ]
  },
  {
   "cell_type": "markdown",
   "id": "370e15b4-d9dc-4eb7-be56-4f9a9c713b92",
   "metadata": {},
   "source": [
    "### ==  Equal\n",
    "\n"
   ]
  },
  {
   "cell_type": "code",
   "execution_count": 5,
   "id": "1d122ad0-3241-41ca-aeab-b7b8eb313bae",
   "metadata": {},
   "outputs": [
    {
     "data": {
      "text/plain": [
       "False"
      ]
     },
     "execution_count": 5,
     "metadata": {},
     "output_type": "execute_result"
    }
   ],
   "source": [
    "a=5\n",
    "b=2\n",
    "a==b"
   ]
  },
  {
   "cell_type": "markdown",
   "id": "e2c01a94-f694-45cc-8e83-33a1495a5cf8",
   "metadata": {},
   "source": [
    "### !=   Not Equal\n"
   ]
  },
  {
   "cell_type": "code",
   "execution_count": 6,
   "id": "4db5debe-dcdd-4a75-a754-278cf8626469",
   "metadata": {},
   "outputs": [
    {
     "data": {
      "text/plain": [
       "True"
      ]
     },
     "execution_count": 6,
     "metadata": {},
     "output_type": "execute_result"
    }
   ],
   "source": [
    "a=5\n",
    "b=2\n",
    "a!=b"
   ]
  },
  {
   "cell_type": "markdown",
   "id": "f93152d8-2af3-4414-96c7-080deb70e55e",
   "metadata": {},
   "source": [
    "### >  Greater than"
   ]
  },
  {
   "cell_type": "code",
   "execution_count": 7,
   "id": "3642db13-5a9a-4b13-808a-54d98dc677fa",
   "metadata": {},
   "outputs": [
    {
     "data": {
      "text/plain": [
       "True"
      ]
     },
     "execution_count": 7,
     "metadata": {},
     "output_type": "execute_result"
    }
   ],
   "source": [
    "a=5\n",
    "b=2\n",
    "a>=b"
   ]
  },
  {
   "cell_type": "markdown",
   "id": "28a913e2-b53e-49ad-9077-b13708029264",
   "metadata": {},
   "source": [
    "### < Less than"
   ]
  },
  {
   "cell_type": "code",
   "execution_count": 8,
   "id": "758153d7-5b65-4b75-a106-ef291634585d",
   "metadata": {},
   "outputs": [
    {
     "data": {
      "text/plain": [
       "True"
      ]
     },
     "execution_count": 8,
     "metadata": {},
     "output_type": "execute_result"
    }
   ],
   "source": [
    "a=5\n",
    "b=2\n",
    "a>=b"
   ]
  },
  {
   "cell_type": "markdown",
   "id": "5d775ce8-c80b-4e20-8652-768ff2bcefad",
   "metadata": {},
   "source": [
    "### >= Greater than or Equal"
   ]
  },
  {
   "cell_type": "code",
   "execution_count": null,
   "id": "1dfc3e12-4443-45c0-8de9-741cde1d3283",
   "metadata": {},
   "outputs": [],
   "source": [
    "a=5\n",
    "b=2\n",
    "a>=b"
   ]
  }
 ],
 "metadata": {
  "kernelspec": {
   "display_name": "Python 3 (ipykernel)",
   "language": "python",
   "name": "python3"
  },
  "language_info": {
   "codemirror_mode": {
    "name": "ipython",
    "version": 3
   },
   "file_extension": ".py",
   "mimetype": "text/x-python",
   "name": "python",
   "nbconvert_exporter": "python",
   "pygments_lexer": "ipython3",
   "version": "3.13.5"
  }
 },
 "nbformat": 4,
 "nbformat_minor": 5
}
