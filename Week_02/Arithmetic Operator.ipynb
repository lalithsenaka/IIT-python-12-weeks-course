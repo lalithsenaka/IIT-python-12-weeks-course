{
 "cells": [
  {
   "cell_type": "markdown",
   "id": "02bf3acb-97d4-4e64-b615-baef76bfaaad",
   "metadata": {},
   "source": [
    "# Arithmetic Operator - 2nd week"
   ]
  },
  {
   "cell_type": "code",
   "execution_count": 3,
   "id": "c28150c5-34f8-4054-9f08-fa3f7e30769e",
   "metadata": {},
   "outputs": [],
   "source": [
    "# a=5\n",
    "# b=2"
   ]
  },
  {
   "cell_type": "code",
   "execution_count": 2,
   "id": "e213a7fd-b2c4-4058-8ea6-2d92911759c9",
   "metadata": {
    "scrolled": true
   },
   "outputs": [
    {
     "name": "stdout",
     "output_type": "stream",
     "text": [
      "2\n",
      "2\n"
     ]
    }
   ],
   "source": [
    "a=5\n",
    "b=2\n",
    "a=b\n",
    "print(a)\n",
    "print(b)"
   ]
  },
  {
   "cell_type": "markdown",
   "id": "0da405aa-10a8-4367-a9e6-4321b841026c",
   "metadata": {},
   "source": [
    "### Addition Assignment"
   ]
  },
  {
   "cell_type": "code",
   "execution_count": 5,
   "id": "2dc92c5b-8c91-485e-a650-f7c1fe41c44d",
   "metadata": {},
   "outputs": [
    {
     "name": "stdout",
     "output_type": "stream",
     "text": [
      "7\n"
     ]
    }
   ],
   "source": [
    "a=5\n",
    "b=2\n",
    "a+=b\n",
    "print(a)"
   ]
  },
  {
   "cell_type": "markdown",
   "id": "dad8d2d1-b824-41c2-8776-762e9f646f6d",
   "metadata": {},
   "source": [
    "### Subtraction Assignment"
   ]
  },
  {
   "cell_type": "code",
   "execution_count": 6,
   "id": "a816be16-33ce-4787-bb5a-607759561756",
   "metadata": {},
   "outputs": [
    {
     "name": "stdout",
     "output_type": "stream",
     "text": [
      "3\n"
     ]
    }
   ],
   "source": [
    "a=5\n",
    "b=2\n",
    "a-=b\n",
    "print(a)"
   ]
  },
  {
   "cell_type": "markdown",
   "id": "3cdfc40c-7a3c-4f29-80fa-e43816b43e50",
   "metadata": {},
   "source": [
    "### Multiplication Assignment"
   ]
  },
  {
   "cell_type": "code",
   "execution_count": 7,
   "id": "7082187a-d41b-4d73-8e20-85462c8c9af0",
   "metadata": {},
   "outputs": [
    {
     "name": "stdout",
     "output_type": "stream",
     "text": [
      "10\n"
     ]
    }
   ],
   "source": [
    "a=5\n",
    "b=2\n",
    "a*=b\n",
    "print(a)"
   ]
  },
  {
   "cell_type": "markdown",
   "id": "752ecd60-8777-4540-bc86-56aa6b30a89a",
   "metadata": {},
   "source": [
    "### Division Assignment"
   ]
  },
  {
   "cell_type": "code",
   "execution_count": 8,
   "id": "75528818-9240-43f6-8f6c-73d59bb1ae6b",
   "metadata": {},
   "outputs": [
    {
     "name": "stdout",
     "output_type": "stream",
     "text": [
      "2.5\n"
     ]
    }
   ],
   "source": [
    "a=5\n",
    "b=2\n",
    "a/=b\n",
    "print(a)"
   ]
  },
  {
   "cell_type": "markdown",
   "id": "3c692fb8-4a87-42d1-8e87-d4f95267b529",
   "metadata": {},
   "source": [
    "### Floor Division Assignment (//=)"
   ]
  },
  {
   "cell_type": "code",
   "execution_count": 9,
   "id": "f3160d24-f074-421a-9c9a-69063c5956de",
   "metadata": {},
   "outputs": [
    {
     "name": "stdout",
     "output_type": "stream",
     "text": [
      "2\n"
     ]
    }
   ],
   "source": [
    "a=5\n",
    "b=2\n",
    "a//=b\n",
    "print(a)"
   ]
  },
  {
   "cell_type": "markdown",
   "id": "0f609fe3-bc0c-4493-b436-c4d9104d5b78",
   "metadata": {},
   "source": [
    "### Modulus Assignment (%=)"
   ]
  },
  {
   "cell_type": "code",
   "execution_count": 10,
   "id": "45807060-522a-4e17-b740-6a6e1ef34998",
   "metadata": {},
   "outputs": [
    {
     "name": "stdout",
     "output_type": "stream",
     "text": [
      "1\n"
     ]
    }
   ],
   "source": [
    "a=5\n",
    "b=2\n",
    "a%=b\n",
    "print(a)"
   ]
  },
  {
   "cell_type": "markdown",
   "id": "96924424-a0b0-4ddd-b7cc-db1d270aa12f",
   "metadata": {},
   "source": [
    "### Power(Exponentiation)  Assignment (**=)"
   ]
  },
  {
   "cell_type": "code",
   "execution_count": 12,
   "id": "17169eac-8d97-4d68-a52f-141c5181d471",
   "metadata": {},
   "outputs": [
    {
     "name": "stdout",
     "output_type": "stream",
     "text": [
      "25\n"
     ]
    }
   ],
   "source": [
    "a=5\n",
    "b=2\n",
    "a**=b\n",
    "print(a)"
   ]
  },
  {
   "cell_type": "code",
   "execution_count": null,
   "id": "57ea4997-dd5d-4f6b-9c10-5846bd4bb0a7",
   "metadata": {},
   "outputs": [],
   "source": []
  }
 ],
 "metadata": {
  "kernelspec": {
   "display_name": "Python 3 (ipykernel)",
   "language": "python",
   "name": "python3"
  },
  "language_info": {
   "codemirror_mode": {
    "name": "ipython",
    "version": 3
   },
   "file_extension": ".py",
   "mimetype": "text/x-python",
   "name": "python",
   "nbconvert_exporter": "python",
   "pygments_lexer": "ipython3",
   "version": "3.13.5"
  }
 },
 "nbformat": 4,
 "nbformat_minor": 5
}
