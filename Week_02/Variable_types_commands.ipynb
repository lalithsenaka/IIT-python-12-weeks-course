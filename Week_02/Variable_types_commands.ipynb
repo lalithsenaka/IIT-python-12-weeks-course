{
 "cells": [
  {
   "cell_type": "markdown",
   "id": "4cd9abae-c071-47f4-a5fe-04c5635e4d64",
   "metadata": {},
   "source": [
    "## Variable names, Data Types and Verification commands"
   ]
  },
  {
   "cell_type": "code",
   "execution_count": 35,
   "id": "e2eacbe0-c4b7-44e7-8dee-bd8ad26cb389",
   "metadata": {},
   "outputs": [
    {
     "name": "stdout",
     "output_type": "stream",
     "text": [
      "Senaka\n",
      "44\n",
      "65.7\n"
     ]
    }
   ],
   "source": [
    "name=(\"Senaka\")\n",
    "age=44\n",
    "weight=65.7\n",
    "print(name)\n",
    "print(age)\n",
    "print(weight)"
   ]
  },
  {
   "cell_type": "code",
   "execution_count": 8,
   "id": "d0f831d5-3e90-4a62-af6e-5c0a3efba51e",
   "metadata": {},
   "outputs": [
    {
     "name": "stdout",
     "output_type": "stream",
     "text": [
      "Senaka\n"
     ]
    }
   ],
   "source": [
    "print(name)"
   ]
  },
  {
   "cell_type": "code",
   "execution_count": 12,
   "id": "5ae01aa5-3ab8-482f-88af-4e4c801c4b1d",
   "metadata": {},
   "outputs": [
    {
     "name": "stdout",
     "output_type": "stream",
     "text": [
      "<class 'str'>\n"
     ]
    }
   ],
   "source": [
    "print(type(name))"
   ]
  },
  {
   "cell_type": "code",
   "execution_count": 13,
   "id": "022f7470-e81e-4f3e-9c87-10989e27a387",
   "metadata": {},
   "outputs": [
    {
     "name": "stdout",
     "output_type": "stream",
     "text": [
      "<class 'int'>\n"
     ]
    }
   ],
   "source": [
    "print(type(age))"
   ]
  },
  {
   "cell_type": "code",
   "execution_count": 14,
   "id": "b2685133-02c2-495a-8c57-9aaaf5c56c12",
   "metadata": {},
   "outputs": [
    {
     "name": "stdout",
     "output_type": "stream",
     "text": [
      "<class 'float'>\n"
     ]
    }
   ],
   "source": [
    "print(type(weight))"
   ]
  },
  {
   "cell_type": "code",
   "execution_count": 15,
   "id": "f0897d3b-75d0-4bd1-928f-f506b2238c33",
   "metadata": {},
   "outputs": [
    {
     "name": "stdout",
     "output_type": "stream",
     "text": [
      "(5+3j)\n"
     ]
    }
   ],
   "source": [
    "x=5+3j\n",
    "print(x)"
   ]
  },
  {
   "cell_type": "code",
   "execution_count": 16,
   "id": "1a8e47cc-be63-4707-96f2-00288f9f8193",
   "metadata": {},
   "outputs": [
    {
     "name": "stdout",
     "output_type": "stream",
     "text": [
      "<class 'complex'>\n"
     ]
    }
   ],
   "source": [
    "print(type(x))"
   ]
  },
  {
   "cell_type": "code",
   "execution_count": 22,
   "id": "98fe0d8b-6f2b-46f5-9df6-290da174710b",
   "metadata": {},
   "outputs": [
    {
     "name": "stdout",
     "output_type": "stream",
     "text": [
      "<class 'bool'>\n",
      "<class 'bool'>\n"
     ]
    }
   ],
   "source": [
    "y=True\n",
    "z=False\n",
    "print(type(y))\n",
    "print(type(z))\n"
   ]
  },
  {
   "cell_type": "code",
   "execution_count": 23,
   "id": "0fcefaa1-aa5e-4085-89e2-2b9cdd8582f6",
   "metadata": {},
   "outputs": [
    {
     "name": "stdout",
     "output_type": "stream",
     "text": [
      "[1, 5, 8, 9]\n"
     ]
    }
   ],
   "source": [
    "list1=[1,5,8,9]\n",
    "print(list1)"
   ]
  },
  {
   "cell_type": "code",
   "execution_count": 24,
   "id": "679c0ddb-42d0-4c6f-a1cb-fe938115d94e",
   "metadata": {},
   "outputs": [
    {
     "name": "stdout",
     "output_type": "stream",
     "text": [
      "<class 'list'>\n"
     ]
    }
   ],
   "source": [
    "print(type(list1))"
   ]
  },
  {
   "cell_type": "code",
   "execution_count": 25,
   "id": "ef4e1a84-b520-446a-ab4d-3bb72cd844f9",
   "metadata": {},
   "outputs": [
    {
     "name": "stdout",
     "output_type": "stream",
     "text": [
      "(5, 5, 6, 8)\n"
     ]
    }
   ],
   "source": [
    "tuple1=(5,5,6,8)\n",
    "print(tuple1)"
   ]
  },
  {
   "cell_type": "code",
   "execution_count": 26,
   "id": "c895b6e4-b2ac-4344-b40e-1ad09448b9be",
   "metadata": {},
   "outputs": [
    {
     "name": "stdout",
     "output_type": "stream",
     "text": [
      "<class 'type'>\n"
     ]
    }
   ],
   "source": [
    "print(type(tuple))"
   ]
  },
  {
   "cell_type": "code",
   "execution_count": 30,
   "id": "f0b2ac9f-7af9-4da3-8284-97c9d8815a9f",
   "metadata": {},
   "outputs": [
    {
     "name": "stdout",
     "output_type": "stream",
     "text": [
      "{1, 2, 3, 4, 5, 6}\n"
     ]
    }
   ],
   "source": [
    "set1={1,2,3,4,5,6,6,6,3}\n",
    "print(set1)"
   ]
  },
  {
   "cell_type": "code",
   "execution_count": 33,
   "id": "b4451aab-2123-4236-95e1-420622277754",
   "metadata": {},
   "outputs": [],
   "source": [
    "dict1={'a':1,'b':3,'c':5}"
   ]
  },
  {
   "cell_type": "code",
   "execution_count": 34,
   "id": "4bdb01e8-38bc-4cd7-b2ca-359e24ffb33a",
   "metadata": {},
   "outputs": [
    {
     "name": "stdout",
     "output_type": "stream",
     "text": [
      "<class 'dict'>\n"
     ]
    }
   ],
   "source": [
    "print(type(dict1))"
   ]
  },
  {
   "cell_type": "code",
   "execution_count": null,
   "id": "d619fa60-9df6-47c1-b675-31b70a0207e0",
   "metadata": {},
   "outputs": [],
   "source": []
  }
 ],
 "metadata": {
  "kernelspec": {
   "display_name": "Python 3 (ipykernel)",
   "language": "python",
   "name": "python3"
  },
  "language_info": {
   "codemirror_mode": {
    "name": "ipython",
    "version": 3
   },
   "file_extension": ".py",
   "mimetype": "text/x-python",
   "name": "python",
   "nbconvert_exporter": "python",
   "pygments_lexer": "ipython3",
   "version": "3.13.5"
  }
 },
 "nbformat": 4,
 "nbformat_minor": 5
}
