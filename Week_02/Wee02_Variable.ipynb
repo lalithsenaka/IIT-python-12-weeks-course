{
 "cells": [
  {
   "cell_type": "markdown",
   "id": "1081485e-f325-453c-ad87-c04e11c2d064",
   "metadata": {},
   "source": [
    "### Variable Declation and verification"
   ]
  },
  {
   "cell_type": "code",
   "execution_count": 4,
   "id": "06d766be-c81c-4a78-b802-145953e82a39",
   "metadata": {},
   "outputs": [
    {
     "name": "stdout",
     "output_type": "stream",
     "text": [
      "10\n",
      "Sri Lanka\n",
      "75.8\n"
     ]
    }
   ],
   "source": [
    "x=10\n",
    "y=\"Sri Lanka\"\n",
    "Z=75.80\n",
    "print(x)\n",
    "print(y)\n",
    "print(Z)\n",
    "\n"
   ]
  },
  {
   "cell_type": "code",
   "execution_count": 5,
   "id": "ad6e9de9-55c1-4f8f-b75b-5d533cc60208",
   "metadata": {},
   "outputs": [
    {
     "name": "stdout",
     "output_type": "stream",
     "text": [
      "<class 'int'>\n"
     ]
    }
   ],
   "source": [
    "print(type(x))"
   ]
  },
  {
   "cell_type": "code",
   "execution_count": 6,
   "id": "68de5e6d-4feb-4a6e-9dce-fefbcf682c50",
   "metadata": {},
   "outputs": [
    {
     "name": "stdout",
     "output_type": "stream",
     "text": [
      "<class 'str'>\n"
     ]
    }
   ],
   "source": [
    "print(type(y))"
   ]
  },
  {
   "cell_type": "code",
   "execution_count": 7,
   "id": "72a0a74c-1560-4956-8d35-9e6a129a955a",
   "metadata": {},
   "outputs": [
    {
     "name": "stdout",
     "output_type": "stream",
     "text": [
      "<class 'float'>\n"
     ]
    }
   ],
   "source": [
    "print(type(Z))"
   ]
  },
  {
   "cell_type": "code",
   "execution_count": null,
   "id": "4cb92e2a-e422-4d4d-8e97-a8f1f7d07cf5",
   "metadata": {},
   "outputs": [],
   "source": []
  }
 ],
 "metadata": {
  "kernelspec": {
   "display_name": "Python 3 (ipykernel)",
   "language": "python",
   "name": "python3"
  },
  "language_info": {
   "codemirror_mode": {
    "name": "ipython",
    "version": 3
   },
   "file_extension": ".py",
   "mimetype": "text/x-python",
   "name": "python",
   "nbconvert_exporter": "python",
   "pygments_lexer": "ipython3",
   "version": "3.13.5"
  }
 },
 "nbformat": 4,
 "nbformat_minor": 5
}
