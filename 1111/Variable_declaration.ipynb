{
  "metadata": {
    "kernelspec": {
      "name": "xpython",
      "display_name": "Python 3.13 (XPython)",
      "language": "python"
    },
    "language_info": {
      "file_extension": ".py",
      "mimetype": "text/x-python",
      "name": "python",
      "version": "3.13.1"
    }
  },
  "nbformat_minor": 5,
  "nbformat": 4,
  "cells": [
    {
      "id": "ae4a99d1-3230-4b72-b0b3-80ab0a919493",
      "cell_type": "code",
      "source": "# Variable decalaration",
      "metadata": {
        "trusted": true
      },
      "outputs": [],
      "execution_count": 6
    },
    {
      "id": "71fb89d6-bff3-490a-8400-0821343f0b0b",
      "cell_type": "code",
      "source": "name=\"Kamal\"\nage=25\nheight=5.9",
      "metadata": {
        "trusted": true
      },
      "outputs": [],
      "execution_count": 4
    },
    {
      "id": "80038b29-7fef-4730-9b1b-8aadc780576e",
      "cell_type": "code",
      "source": "# Take the output",
      "metadata": {
        "trusted": true
      },
      "outputs": [],
      "execution_count": null
    },
    {
      "id": "7faa8df8-4f1c-466e-8d92-5bdcda868677",
      "cell_type": "code",
      "source": "print(name)\nprint(age)\nprint(height)",
      "metadata": {
        "trusted": true
      },
      "outputs": [
        {
          "name": "stdout",
          "output_type": "stream",
          "text": "Kamal\n25\n5.9\n"
        }
      ],
      "execution_count": 9
    },
    {
      "id": "cfefc182-aa4a-43d0-a20c-454e5bb94578",
      "cell_type": "code",
      "source": "# verify the variable type",
      "metadata": {
        "trusted": true
      },
      "outputs": [],
      "execution_count": 7
    },
    {
      "id": "40b8df4f-d740-43f1-b63d-1cc91e59f2bf",
      "cell_type": "code",
      "source": "print(type(name))\nprint(type(age))\nprint(type(height))",
      "metadata": {
        "trusted": true
      },
      "outputs": [
        {
          "name": "stdout",
          "output_type": "stream",
          "text": "<class 'str'>\n<class 'int'>\n<class 'float'>\n"
        }
      ],
      "execution_count": 8
    }
  ]
}